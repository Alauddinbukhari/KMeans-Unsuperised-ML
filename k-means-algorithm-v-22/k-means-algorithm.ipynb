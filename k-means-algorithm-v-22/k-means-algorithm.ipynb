{
 "cells": [
  {
   "cell_type": "markdown",
   "metadata": {
    "id": "lXShFfit16fg"
   },
   "source": [
    "# The Spark Foundation #GRIPJUNE 2021"
   ]
  },
  {
   "cell_type": "markdown",
   "metadata": {
    "id": "cma5Uu6316fh"
   },
   "source": [
    "## Task-2 ## Prediction using unsupervised ML"
   ]
  },
  {
   "cell_type": "markdown",
   "metadata": {
    "id": "x-9aNgmQ16fh"
   },
   "source": [
    "## Name: Syed Alauddin Bukhari "
   ]
  },
  {
   "cell_type": "code",
   "execution_count": 51,
   "metadata": {
    "colab": {
     "base_uri": "https://localhost:8080/"
    },
    "executionInfo": {
     "elapsed": 13121,
     "status": "ok",
     "timestamp": 1623983471763,
     "user": {
      "displayName": "Syed Alauddin Bukhari",
      "photoUrl": "https://lh3.googleusercontent.com/a-/AOh14GisO01R4UNKNBnJcAJOLePEkkE3SBur1-tdYyfmjQ=s64",
      "userId": "05634547526170496462"
     },
     "user_tz": -330
    },
    "id": "M3IzO5vY16fi",
    "outputId": "1ad24a87-e576-46f8-a526-d8dbb65e1f72"
   },
   "outputs": [],
   "source": [
    "!pip install jovian --upgrade --quiet\n",
    "!pip install -U scikit-learn --quiet"
   ]
  },
  {
   "cell_type": "code",
   "execution_count": 52,
   "metadata": {
    "executionInfo": {
     "elapsed": 29,
     "status": "ok",
     "timestamp": 1623981915979,
     "user": {
      "displayName": "Syed Alauddin Bukhari",
      "photoUrl": "https://lh3.googleusercontent.com/a-/AOh14GisO01R4UNKNBnJcAJOLePEkkE3SBur1-tdYyfmjQ=s64",
      "userId": "05634547526170496462"
     },
     "user_tz": -330
    },
    "id": "Inucv5PF16fj"
   },
   "outputs": [],
   "source": [
    "import jovian\n",
    "import pandas as pd \n",
    "import numpy as np\n"
   ]
  },
  {
   "cell_type": "code",
   "execution_count": null,
   "metadata": {
    "colab": {
     "base_uri": "https://localhost:8080/",
     "height": 126
    },
    "executionInfo": {
     "elapsed": 3707,
     "status": "ok",
     "timestamp": 1623984648876,
     "user": {
      "displayName": "Syed Alauddin Bukhari",
      "photoUrl": "https://lh3.googleusercontent.com/a-/AOh14GisO01R4UNKNBnJcAJOLePEkkE3SBur1-tdYyfmjQ=s64",
      "userId": "05634547526170496462"
     },
     "user_tz": -330
    },
    "id": "TdM0eIJU16fj",
    "outputId": "ce86c632-1790-4571-87e2-8d6d0567295d"
   },
   "outputs": [
    {
     "data": {
      "application/javascript": [
       "window.require && require([\"base/js/namespace\"],function(Jupyter){Jupyter.notebook.save_checkpoint()})"
      ],
      "text/plain": [
       "<IPython.core.display.Javascript object>"
      ]
     },
     "metadata": {},
     "output_type": "display_data"
    },
    {
     "name": "stdout",
     "output_type": "stream",
     "text": [
      "[jovian] Attempting to save notebook..\u001b[0m\n"
     ]
    }
   ],
   "source": [
    "# Execute this to save new versions of the notebook\n",
    "jovian.commit(project=\"k-means-algorithm\",files=[\"Iris.csv\"])"
   ]
  },
  {
   "cell_type": "markdown",
   "metadata": {
    "id": "VLR-1Qk016fm"
   },
   "source": [
    "## Data Preparing "
   ]
  },
  {
   "cell_type": "markdown",
   "metadata": {},
   "source": [
    "Loading  data into variable "
   ]
  },
  {
   "cell_type": "code",
   "execution_count": 54,
   "metadata": {
    "executionInfo": {
     "elapsed": 360,
     "status": "ok",
     "timestamp": 1623981928645,
     "user": {
      "displayName": "Syed Alauddin Bukhari",
      "photoUrl": "https://lh3.googleusercontent.com/a-/AOh14GisO01R4UNKNBnJcAJOLePEkkE3SBur1-tdYyfmjQ=s64",
      "userId": "05634547526170496462"
     },
     "user_tz": -330
    },
    "id": "X9msc44o16ft"
   },
   "outputs": [],
   "source": [
    "data_df=pd.read_csv(\"Iris.csv\")"
   ]
  },
  {
   "cell_type": "code",
   "execution_count": 55,
   "metadata": {
    "colab": {
     "base_uri": "https://localhost:8080/"
    },
    "executionInfo": {
     "elapsed": 375,
     "status": "ok",
     "timestamp": 1623981925925,
     "user": {
      "displayName": "Syed Alauddin Bukhari",
      "photoUrl": "https://lh3.googleusercontent.com/a-/AOh14GisO01R4UNKNBnJcAJOLePEkkE3SBur1-tdYyfmjQ=s64",
      "userId": "05634547526170496462"
     },
     "user_tz": -330
    },
    "id": "ZVMJDbe816fu",
    "outputId": "7e9f6ed6-6ace-4102-c5aa-4b7a63ce639d"
   },
   "outputs": [
    {
     "data": {
      "text/plain": [
       "pandas.core.frame.DataFrame"
      ]
     },
     "execution_count": 55,
     "metadata": {},
     "output_type": "execute_result"
    }
   ],
   "source": [
    "type(data_df)"
   ]
  },
  {
   "cell_type": "code",
   "execution_count": 56,
   "metadata": {
    "colab": {
     "base_uri": "https://localhost:8080/",
     "height": 407
    },
    "executionInfo": {
     "elapsed": 594,
     "status": "ok",
     "timestamp": 1623981936726,
     "user": {
      "displayName": "Syed Alauddin Bukhari",
      "photoUrl": "https://lh3.googleusercontent.com/a-/AOh14GisO01R4UNKNBnJcAJOLePEkkE3SBur1-tdYyfmjQ=s64",
      "userId": "05634547526170496462"
     },
     "user_tz": -330
    },
    "id": "rJiAq0FQ16fu",
    "outputId": "4fe042ac-64e7-4ef9-a059-5f3149f308b7",
    "scrolled": true
   },
   "outputs": [
    {
     "data": {
      "text/html": [
       "<div>\n",
       "<style scoped>\n",
       "    .dataframe tbody tr th:only-of-type {\n",
       "        vertical-align: middle;\n",
       "    }\n",
       "\n",
       "    .dataframe tbody tr th {\n",
       "        vertical-align: top;\n",
       "    }\n",
       "\n",
       "    .dataframe thead th {\n",
       "        text-align: right;\n",
       "    }\n",
       "</style>\n",
       "<table border=\"1\" class=\"dataframe\">\n",
       "  <thead>\n",
       "    <tr style=\"text-align: right;\">\n",
       "      <th></th>\n",
       "      <th>Id</th>\n",
       "      <th>SepalLengthCm</th>\n",
       "      <th>SepalWidthCm</th>\n",
       "      <th>PetalLengthCm</th>\n",
       "      <th>PetalWidthCm</th>\n",
       "      <th>Species</th>\n",
       "    </tr>\n",
       "  </thead>\n",
       "  <tbody>\n",
       "    <tr>\n",
       "      <th>0</th>\n",
       "      <td>1</td>\n",
       "      <td>5.1</td>\n",
       "      <td>3.5</td>\n",
       "      <td>1.4</td>\n",
       "      <td>0.2</td>\n",
       "      <td>Iris-setosa</td>\n",
       "    </tr>\n",
       "    <tr>\n",
       "      <th>1</th>\n",
       "      <td>2</td>\n",
       "      <td>4.9</td>\n",
       "      <td>3.0</td>\n",
       "      <td>1.4</td>\n",
       "      <td>0.2</td>\n",
       "      <td>Iris-setosa</td>\n",
       "    </tr>\n",
       "    <tr>\n",
       "      <th>2</th>\n",
       "      <td>3</td>\n",
       "      <td>4.7</td>\n",
       "      <td>3.2</td>\n",
       "      <td>1.3</td>\n",
       "      <td>0.2</td>\n",
       "      <td>Iris-setosa</td>\n",
       "    </tr>\n",
       "    <tr>\n",
       "      <th>3</th>\n",
       "      <td>4</td>\n",
       "      <td>4.6</td>\n",
       "      <td>3.1</td>\n",
       "      <td>1.5</td>\n",
       "      <td>0.2</td>\n",
       "      <td>Iris-setosa</td>\n",
       "    </tr>\n",
       "    <tr>\n",
       "      <th>4</th>\n",
       "      <td>5</td>\n",
       "      <td>5.0</td>\n",
       "      <td>3.6</td>\n",
       "      <td>1.4</td>\n",
       "      <td>0.2</td>\n",
       "      <td>Iris-setosa</td>\n",
       "    </tr>\n",
       "    <tr>\n",
       "      <th>...</th>\n",
       "      <td>...</td>\n",
       "      <td>...</td>\n",
       "      <td>...</td>\n",
       "      <td>...</td>\n",
       "      <td>...</td>\n",
       "      <td>...</td>\n",
       "    </tr>\n",
       "    <tr>\n",
       "      <th>145</th>\n",
       "      <td>146</td>\n",
       "      <td>6.7</td>\n",
       "      <td>3.0</td>\n",
       "      <td>5.2</td>\n",
       "      <td>2.3</td>\n",
       "      <td>Iris-virginica</td>\n",
       "    </tr>\n",
       "    <tr>\n",
       "      <th>146</th>\n",
       "      <td>147</td>\n",
       "      <td>6.3</td>\n",
       "      <td>2.5</td>\n",
       "      <td>5.0</td>\n",
       "      <td>1.9</td>\n",
       "      <td>Iris-virginica</td>\n",
       "    </tr>\n",
       "    <tr>\n",
       "      <th>147</th>\n",
       "      <td>148</td>\n",
       "      <td>6.5</td>\n",
       "      <td>3.0</td>\n",
       "      <td>5.2</td>\n",
       "      <td>2.0</td>\n",
       "      <td>Iris-virginica</td>\n",
       "    </tr>\n",
       "    <tr>\n",
       "      <th>148</th>\n",
       "      <td>149</td>\n",
       "      <td>6.2</td>\n",
       "      <td>3.4</td>\n",
       "      <td>5.4</td>\n",
       "      <td>2.3</td>\n",
       "      <td>Iris-virginica</td>\n",
       "    </tr>\n",
       "    <tr>\n",
       "      <th>149</th>\n",
       "      <td>150</td>\n",
       "      <td>5.9</td>\n",
       "      <td>3.0</td>\n",
       "      <td>5.1</td>\n",
       "      <td>1.8</td>\n",
       "      <td>Iris-virginica</td>\n",
       "    </tr>\n",
       "  </tbody>\n",
       "</table>\n",
       "<p>150 rows × 6 columns</p>\n",
       "</div>"
      ],
      "text/plain": [
       "      Id  SepalLengthCm  SepalWidthCm  PetalLengthCm  PetalWidthCm  \\\n",
       "0      1            5.1           3.5            1.4           0.2   \n",
       "1      2            4.9           3.0            1.4           0.2   \n",
       "2      3            4.7           3.2            1.3           0.2   \n",
       "3      4            4.6           3.1            1.5           0.2   \n",
       "4      5            5.0           3.6            1.4           0.2   \n",
       "..   ...            ...           ...            ...           ...   \n",
       "145  146            6.7           3.0            5.2           2.3   \n",
       "146  147            6.3           2.5            5.0           1.9   \n",
       "147  148            6.5           3.0            5.2           2.0   \n",
       "148  149            6.2           3.4            5.4           2.3   \n",
       "149  150            5.9           3.0            5.1           1.8   \n",
       "\n",
       "            Species  \n",
       "0       Iris-setosa  \n",
       "1       Iris-setosa  \n",
       "2       Iris-setosa  \n",
       "3       Iris-setosa  \n",
       "4       Iris-setosa  \n",
       "..              ...  \n",
       "145  Iris-virginica  \n",
       "146  Iris-virginica  \n",
       "147  Iris-virginica  \n",
       "148  Iris-virginica  \n",
       "149  Iris-virginica  \n",
       "\n",
       "[150 rows x 6 columns]"
      ]
     },
     "execution_count": 56,
     "metadata": {},
     "output_type": "execute_result"
    }
   ],
   "source": [
    "data_df"
   ]
  },
  {
   "cell_type": "code",
   "execution_count": 57,
   "metadata": {
    "colab": {
     "base_uri": "https://localhost:8080/"
    },
    "executionInfo": {
     "elapsed": 362,
     "status": "ok",
     "timestamp": 1623982820991,
     "user": {
      "displayName": "Syed Alauddin Bukhari",
      "photoUrl": "https://lh3.googleusercontent.com/a-/AOh14GisO01R4UNKNBnJcAJOLePEkkE3SBur1-tdYyfmjQ=s64",
      "userId": "05634547526170496462"
     },
     "user_tz": -330
    },
    "id": "k1vZUU1X3cuk",
    "outputId": "18fc2d91-f584-4ca0-fa28-2af67aa2b160",
    "scrolled": true
   },
   "outputs": [
    {
     "data": {
      "text/plain": [
       "(150, 6)"
      ]
     },
     "execution_count": 57,
     "metadata": {},
     "output_type": "execute_result"
    }
   ],
   "source": [
    "data_df.shape #Checking shape of dataframe"
   ]
  },
  {
   "cell_type": "code",
   "execution_count": 58,
   "metadata": {
    "executionInfo": {
     "elapsed": 392,
     "status": "ok",
     "timestamp": 1623982817050,
     "user": {
      "displayName": "Syed Alauddin Bukhari",
      "photoUrl": "https://lh3.googleusercontent.com/a-/AOh14GisO01R4UNKNBnJcAJOLePEkkE3SBur1-tdYyfmjQ=s64",
      "userId": "05634547526170496462"
     },
     "user_tz": -330
    },
    "id": "-_mO9Mf535B-"
   },
   "outputs": [],
   "source": [
    "data_df.drop(labels=\"Id\",inplace=True,axis=1)"
   ]
  },
  {
   "cell_type": "code",
   "execution_count": 59,
   "metadata": {
    "colab": {
     "base_uri": "https://localhost:8080/",
     "height": 288
    },
    "executionInfo": {
     "elapsed": 13,
     "status": "ok",
     "timestamp": 1623982823103,
     "user": {
      "displayName": "Syed Alauddin Bukhari",
      "photoUrl": "https://lh3.googleusercontent.com/a-/AOh14GisO01R4UNKNBnJcAJOLePEkkE3SBur1-tdYyfmjQ=s64",
      "userId": "05634547526170496462"
     },
     "user_tz": -330
    },
    "id": "jr_jt0i64ehm",
    "outputId": "8767d6bd-e677-41f9-ea02-9b49f985eec4"
   },
   "outputs": [
    {
     "data": {
      "text/html": [
       "<div>\n",
       "<style scoped>\n",
       "    .dataframe tbody tr th:only-of-type {\n",
       "        vertical-align: middle;\n",
       "    }\n",
       "\n",
       "    .dataframe tbody tr th {\n",
       "        vertical-align: top;\n",
       "    }\n",
       "\n",
       "    .dataframe thead th {\n",
       "        text-align: right;\n",
       "    }\n",
       "</style>\n",
       "<table border=\"1\" class=\"dataframe\">\n",
       "  <thead>\n",
       "    <tr style=\"text-align: right;\">\n",
       "      <th></th>\n",
       "      <th>SepalLengthCm</th>\n",
       "      <th>SepalWidthCm</th>\n",
       "      <th>PetalLengthCm</th>\n",
       "      <th>PetalWidthCm</th>\n",
       "    </tr>\n",
       "  </thead>\n",
       "  <tbody>\n",
       "    <tr>\n",
       "      <th>count</th>\n",
       "      <td>150.000000</td>\n",
       "      <td>150.000000</td>\n",
       "      <td>150.000000</td>\n",
       "      <td>150.000000</td>\n",
       "    </tr>\n",
       "    <tr>\n",
       "      <th>mean</th>\n",
       "      <td>5.843333</td>\n",
       "      <td>3.054000</td>\n",
       "      <td>3.758667</td>\n",
       "      <td>1.198667</td>\n",
       "    </tr>\n",
       "    <tr>\n",
       "      <th>std</th>\n",
       "      <td>0.828066</td>\n",
       "      <td>0.433594</td>\n",
       "      <td>1.764420</td>\n",
       "      <td>0.763161</td>\n",
       "    </tr>\n",
       "    <tr>\n",
       "      <th>min</th>\n",
       "      <td>4.300000</td>\n",
       "      <td>2.000000</td>\n",
       "      <td>1.000000</td>\n",
       "      <td>0.100000</td>\n",
       "    </tr>\n",
       "    <tr>\n",
       "      <th>25%</th>\n",
       "      <td>5.100000</td>\n",
       "      <td>2.800000</td>\n",
       "      <td>1.600000</td>\n",
       "      <td>0.300000</td>\n",
       "    </tr>\n",
       "    <tr>\n",
       "      <th>50%</th>\n",
       "      <td>5.800000</td>\n",
       "      <td>3.000000</td>\n",
       "      <td>4.350000</td>\n",
       "      <td>1.300000</td>\n",
       "    </tr>\n",
       "    <tr>\n",
       "      <th>75%</th>\n",
       "      <td>6.400000</td>\n",
       "      <td>3.300000</td>\n",
       "      <td>5.100000</td>\n",
       "      <td>1.800000</td>\n",
       "    </tr>\n",
       "    <tr>\n",
       "      <th>max</th>\n",
       "      <td>7.900000</td>\n",
       "      <td>4.400000</td>\n",
       "      <td>6.900000</td>\n",
       "      <td>2.500000</td>\n",
       "    </tr>\n",
       "  </tbody>\n",
       "</table>\n",
       "</div>"
      ],
      "text/plain": [
       "       SepalLengthCm  SepalWidthCm  PetalLengthCm  PetalWidthCm\n",
       "count     150.000000    150.000000     150.000000    150.000000\n",
       "mean        5.843333      3.054000       3.758667      1.198667\n",
       "std         0.828066      0.433594       1.764420      0.763161\n",
       "min         4.300000      2.000000       1.000000      0.100000\n",
       "25%         5.100000      2.800000       1.600000      0.300000\n",
       "50%         5.800000      3.000000       4.350000      1.300000\n",
       "75%         6.400000      3.300000       5.100000      1.800000\n",
       "max         7.900000      4.400000       6.900000      2.500000"
      ]
     },
     "execution_count": 59,
     "metadata": {},
     "output_type": "execute_result"
    }
   ],
   "source": [
    "data_df.describe()"
   ]
  },
  {
   "cell_type": "code",
   "execution_count": 60,
   "metadata": {
    "colab": {
     "base_uri": "https://localhost:8080/"
    },
    "executionInfo": {
     "elapsed": 362,
     "status": "ok",
     "timestamp": 1623982828931,
     "user": {
      "displayName": "Syed Alauddin Bukhari",
      "photoUrl": "https://lh3.googleusercontent.com/a-/AOh14GisO01R4UNKNBnJcAJOLePEkkE3SBur1-tdYyfmjQ=s64",
      "userId": "05634547526170496462"
     },
     "user_tz": -330
    },
    "id": "8nQsVEcT4qmC",
    "outputId": "f0588196-3fbd-463d-b47e-6e5a7e3fee09"
   },
   "outputs": [
    {
     "name": "stdout",
     "output_type": "stream",
     "text": [
      "<class 'pandas.core.frame.DataFrame'>\n",
      "RangeIndex: 150 entries, 0 to 149\n",
      "Data columns (total 5 columns):\n",
      " #   Column         Non-Null Count  Dtype  \n",
      "---  ------         --------------  -----  \n",
      " 0   SepalLengthCm  150 non-null    float64\n",
      " 1   SepalWidthCm   150 non-null    float64\n",
      " 2   PetalLengthCm  150 non-null    float64\n",
      " 3   PetalWidthCm   150 non-null    float64\n",
      " 4   Species        150 non-null    object \n",
      "dtypes: float64(4), object(1)\n",
      "memory usage: 6.0+ KB\n"
     ]
    }
   ],
   "source": [
    "data_df.info()"
   ]
  },
  {
   "cell_type": "markdown",
   "metadata": {
    "id": "nVxfqu_L51R7"
   },
   "source": [
    "## Elbow method"
   ]
  },
  {
   "cell_type": "markdown",
   "metadata": {},
   "source": [
    "But how many clusters can we divide the datapoints in? \n",
    "we can find that using elbow method,On it's basis we determine K value."
   ]
  },
  {
   "cell_type": "code",
   "execution_count": 61,
   "metadata": {
    "executionInfo": {
     "elapsed": 484,
     "status": "ok",
     "timestamp": 1623983262552,
     "user": {
      "displayName": "Syed Alauddin Bukhari",
      "photoUrl": "https://lh3.googleusercontent.com/a-/AOh14GisO01R4UNKNBnJcAJOLePEkkE3SBur1-tdYyfmjQ=s64",
      "userId": "05634547526170496462"
     },
     "user_tz": -330
    },
    "id": "e_2XevbV5-pJ"
   },
   "outputs": [],
   "source": [
    "#Finding optimul numbers of KMean Classification\n",
    "\n",
    "x = data_df.iloc[:, [0, 1, 2, 3]].values \n"
   ]
  },
  {
   "cell_type": "code",
   "execution_count": 62,
   "metadata": {
    "executionInfo": {
     "elapsed": 1129,
     "status": "ok",
     "timestamp": 1623984047355,
     "user": {
      "displayName": "Syed Alauddin Bukhari",
      "photoUrl": "https://lh3.googleusercontent.com/a-/AOh14GisO01R4UNKNBnJcAJOLePEkkE3SBur1-tdYyfmjQ=s64",
      "userId": "05634547526170496462"
     },
     "user_tz": -330
    },
    "id": "9je-D5496s2z"
   },
   "outputs": [],
   "source": [
    "from sklearn.cluster import KMeans\n",
    "wcss=[]#Empty List\n",
    "\n",
    "\n",
    "for i in range(1,11):\n",
    "    kmeans=KMeans(n_clusters=i)\n",
    "    kmeans.fit(x)\n",
    "    wcss.append(kmeans.inertia_)\n",
    "    \n"
   ]
  },
  {
   "cell_type": "markdown",
   "metadata": {
    "id": "AosPbZHr_iGC"
   },
   "source": [
    "## Plotting the Elbow Method"
   ]
  },
  {
   "cell_type": "code",
   "execution_count": 63,
   "metadata": {
    "executionInfo": {
     "elapsed": 433,
     "status": "ok",
     "timestamp": 1623984156540,
     "user": {
      "displayName": "Syed Alauddin Bukhari",
      "photoUrl": "https://lh3.googleusercontent.com/a-/AOh14GisO01R4UNKNBnJcAJOLePEkkE3SBur1-tdYyfmjQ=s64",
      "userId": "05634547526170496462"
     },
     "user_tz": -330
    },
    "id": "quPTUccO6teh"
   },
   "outputs": [],
   "source": [
    "import matplotlib.pyplot as plt\n"
   ]
  },
  {
   "cell_type": "code",
   "execution_count": 64,
   "metadata": {
    "colab": {
     "base_uri": "https://localhost:8080/",
     "height": 295
    },
    "executionInfo": {
     "elapsed": 461,
     "status": "ok",
     "timestamp": 1623984394542,
     "user": {
      "displayName": "Syed Alauddin Bukhari",
      "photoUrl": "https://lh3.googleusercontent.com/a-/AOh14GisO01R4UNKNBnJcAJOLePEkkE3SBur1-tdYyfmjQ=s64",
      "userId": "05634547526170496462"
     },
     "user_tz": -330
    },
    "id": "aYlfPDjD_9E9",
    "outputId": "b35a0eda-be6f-4d70-f2e2-dc0da73eb200",
    "scrolled": true
   },
   "outputs": [
    {
     "data": {
      "image/png": "[encoded data removed]",
      "text/plain": [
       "<Figure size 432x288 with 1 Axes>"
      ]
     },
     "metadata": {
      "needs_background": "light"
     },
     "output_type": "display_data"
    }
   ],
   "source": [
    "#ploting on line graph\n",
    "plt.plot(range(1,11),wcss)\n",
    "plt.title(\"Elbow Method\")\n",
    "plt.xlabel('Number of Clusters')\n",
    "plt.ylabel('WCSS')\n",
    "plt.show()"
   ]
  },
  {
   "cell_type": "markdown",
   "metadata": {},
   "source": [
    "Why it is called 'The elbow method'?,from the above graph,we can observe that  the optimum clusters is where the elbow occurs. This is when the within cluster sum of squares (WCSS) doesn't decrease significantly with every iteration"
   ]
  },
  {
   "cell_type": "markdown",
   "metadata": {
    "id": "fdyLQhlrA6zX"
   },
   "source": [
    "Now we know exact K value or Optimuml clusters,It's time to predict"
   ]
  },
  {
   "cell_type": "code",
   "execution_count": 65,
   "metadata": {
    "colab": {
     "base_uri": "https://localhost:8080/"
    },
    "executionInfo": {
     "elapsed": 353,
     "status": "ok",
     "timestamp": 1623984584514,
     "user": {
      "displayName": "Syed Alauddin Bukhari",
      "photoUrl": "https://lh3.googleusercontent.com/a-/AOh14GisO01R4UNKNBnJcAJOLePEkkE3SBur1-tdYyfmjQ=s64",
      "userId": "05634547526170496462"
     },
     "user_tz": -330
    },
    "id": "Lu_mf6_IA0zw",
    "outputId": "769ffe05-6426-4959-abff-b0deecf47b95"
   },
   "outputs": [],
   "source": [
    "k=KMeans(n_clusters=3)\n",
    "y_means=k.fit_predict(x)"
   ]
  },
  {
   "cell_type": "code",
   "execution_count": 66,
   "metadata": {
    "scrolled": true
   },
   "outputs": [
    {
     "data": {
      "text/plain": [
       "<matplotlib.collections.PathCollection at 0x7f4212988ca0>"
      ]
     },
     "execution_count": 66,
     "metadata": {},
     "output_type": "execute_result"
    },
    {
     "data": {
      "image/png": "[encoded data removed]",
      "text/plain": [
       "<Figure size 432x288 with 1 Axes>"
      ]
     },
     "metadata": {
      "needs_background": "light"
     },
     "output_type": "display_data"
    }
   ],
   "source": [
    "# Visualising the clusters - On the first two columns\n",
    "plt.scatter(x[y_means == 0, 0], x[y_means == 0, 1], \n",
    "            s = 100, c = 'red', label = 'Iris-setosa')\n",
    "plt.scatter(x[y_means == 1, 0], x[y_means == 1, 1], \n",
    "            s = 100, c = 'blue', label = 'Iris-versicolour')\n",
    "plt.scatter(x[y_means == 2, 0], x[y_means == 2, 1],\n",
    "            s = 100, c = 'green', label = 'Iris-virginica')\n",
    "\n",
    "# Plotting the centroids of the clusters\n",
    "plt.scatter(k.cluster_centers_[:, 0], k.cluster_centers_[:,1], \n",
    "            s = 100, c = 'yellow', label = 'Centroids')"
   ]
  }
 ],
 "metadata": {
  "colab": {
   "name": "k-means-algorithm.ipynb",
   "provenance": []
  },
  "language_info": {
   "codemirror_mode": {
    "name": "ipython",
    "version": 3
   },
   "file_extension": ".py",
   "mimetype": "text/x-python",
   "name": "python",
   "nbconvert_exporter": "python",
   "pygments_lexer": "ipython3",
   "version": "3.8.6"
  }
 },
 "nbformat": 4,
 "nbformat_minor": 1
}